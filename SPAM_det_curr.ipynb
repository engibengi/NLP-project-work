{
  "nbformat": 4,
  "nbformat_minor": 0,
  "metadata": {
    "colab": {
      "provenance": [],
      "gpuType": "L4",
      "machine_shape": "hm"
    },
    "kernelspec": {
      "name": "python3",
      "display_name": "Python 3"
    },
    "language_info": {
      "name": "python"
    },
    "accelerator": "GPU"
  },
  "cells": [
    {
      "cell_type": "markdown",
      "source": [
        "# IMDB-dataset learning with data cartography guided curriculum learning"
      ],
      "metadata": {
        "id": "sUa0CHCpL6fr"
      }
    },
    {
      "cell_type": "markdown",
      "source": [
        "## Section 0: Notebook setup"
      ],
      "metadata": {
        "id": "FkdOHVolMCI0"
      }
    },
    {
      "cell_type": "markdown",
      "source": [
        "### 0.1: Imports"
      ],
      "metadata": {
        "id": "y728JLdmMIig"
      }
    },
    {
      "cell_type": "code",
      "execution_count": 1,
      "metadata": {
        "colab": {
          "base_uri": "https://localhost:8080/"
        },
        "id": "5UxHD_vwIheY",
        "outputId": "97db580f-aea8-4eda-9e10-6214caf336a3"
      },
      "outputs": [
        {
          "output_type": "stream",
          "name": "stderr",
          "text": [
            "[nltk_data] Downloading package stopwords to /root/nltk_data...\n",
            "[nltk_data]   Package stopwords is already up-to-date!\n"
          ]
        },
        {
          "output_type": "execute_result",
          "data": {
            "text/plain": [
              "True"
            ]
          },
          "metadata": {},
          "execution_count": 1
        }
      ],
      "source": [
        "### Utility\n",
        "import os\n",
        "from pathlib import Path\n",
        "import urllib\n",
        "\n",
        "### Datascience\n",
        "import pandas as pd\n",
        "from transformers import AutoModelForSequenceClassification, AutoTokenizer\n",
        "import torch\n",
        "from torch.utils.data import Dataset, DataLoader\n",
        "import numpy as np\n",
        "from sklearn.metrics import classification_report\n",
        "from sklearn.model_selection import train_test_split\n",
        "import nltk\n",
        "from nltk.corpus import stopwords\n",
        "\n",
        "### Plotting\n",
        "import matplotlib.pyplot as plt\n",
        "import seaborn as sns\n",
        "\n",
        "# Nltk download\n",
        "nltk.download('stopwords')"
      ]
    },
    {
      "cell_type": "markdown",
      "source": [
        "### 0.2: Configuration setup"
      ],
      "metadata": {
        "id": "Ts5VBUikMPC5"
      }
    },
    {
      "cell_type": "code",
      "source": [
        "# Set of constant used, you can choose which to use below\n",
        "SEEDS = [42, 69, 420, 42069, 69420]\n",
        "CARD_DICT = {\"sentence\":\"sentence-transformers/bert-base-nli-mean-tokens\",\n",
        "             \"tiny\":\"prajjwal1/bert-tiny\"\n",
        "            }"
      ],
      "metadata": {
        "id": "jISYDpPDJKct"
      },
      "execution_count": 2,
      "outputs": []
    },
    {
      "cell_type": "code",
      "source": [
        "# Constant setting --- you can change these\n",
        "SEED_IDX = 0\n",
        "CARD_KEY = \"tiny\"\n",
        "MAX_LEN = 256\n",
        "TRAIN_BATCH_SIZE = 256\n",
        "EPOCHS = 20\n",
        "LEARNING_RATE = 2e-4"
      ],
      "metadata": {
        "id": "O_qJzL5XJNw3"
      },
      "execution_count": 3,
      "outputs": []
    },
    {
      "cell_type": "code",
      "source": [
        "# Constant derivation settings --- DO NOT TOUCH\n",
        "SEED = SEEDS[SEED_IDX]\n",
        "CARD = CARD_DICT.get(CARD_KEY, \"prajjwal1/bert-tiny\")\n",
        "torch.manual_seed(SEED)\n",
        "np.random.seed(SEED);"
      ],
      "metadata": {
        "id": "igiZzSz-JPTo"
      },
      "execution_count": 4,
      "outputs": []
    },
    {
      "cell_type": "markdown",
      "source": [
        "### 0.3 Utility functions"
      ],
      "metadata": {
        "id": "ZzZOuNiSMUvK"
      }
    },
    {
      "cell_type": "markdown",
      "source": [
        "#### 0.3.1 Dataset class definition"
      ],
      "metadata": {
        "id": "WfOfqyp1MmqV"
      }
    },
    {
      "cell_type": "code",
      "source": [
        "class Email_Dataset(Dataset):\n",
        "    def __init__(self, df, tokenizer, labels, max_len):\n",
        "        self.df = df\n",
        "        self.max_len = max_len\n",
        "        self.text = df.Text\n",
        "        self.tokenizer = tokenizer\n",
        "        self.targets = df[labels].values\n",
        "\n",
        "    def __len__(self):\n",
        "        return len(self.df)\n",
        "\n",
        "    def __getitem__(self, index):\n",
        "        text = self.text[index]\n",
        "        inputs = self.tokenizer.encode_plus(\n",
        "            text,\n",
        "            truncation=True,\n",
        "            add_special_tokens=True,\n",
        "            max_length=self.max_len,\n",
        "            padding='max_length',\n",
        "            return_token_type_ids=True\n",
        "        )\n",
        "        ids = inputs['input_ids']\n",
        "        mask = inputs['attention_mask']\n",
        "        token_type_ids = inputs[\"token_type_ids\"]\n",
        "\n",
        "        return {\n",
        "            'index': index,\n",
        "            'ids': torch.tensor(ids, dtype=torch.long),\n",
        "            'mask': torch.tensor(mask, dtype=torch.long),\n",
        "            'token_type_ids': torch.tensor(token_type_ids, dtype=torch.long),\n",
        "            'targets': torch.tensor(self.targets[index], dtype=torch.float)\n",
        "        }"
      ],
      "metadata": {
        "id": "Tzg6I8AyMaSD"
      },
      "execution_count": 5,
      "outputs": []
    },
    {
      "cell_type": "markdown",
      "source": [
        "#### 0.3.2: Model functions"
      ],
      "metadata": {
        "id": "dzUqcpSyO6n5"
      }
    },
    {
      "cell_type": "markdown",
      "source": [
        "##### Trainer function definition"
      ],
      "metadata": {
        "id": "E_TqeMr-Mq2a"
      }
    },
    {
      "cell_type": "code",
      "source": [
        "def trainer(model, device, optimizer, loss_fn, loader, epochs, train_dyn={}, c_old:int=0, c_max:int=0, loss_lim:float=.0):\n",
        "    counter = max(c_old, 0)\n",
        "    losses = []\n",
        "    results = {}\n",
        "    for epoch in range(epochs):\n",
        "        model.train()\n",
        "        print(f'EPOCH {epoch + 1}/{epochs}...')\n",
        "        for _,data in enumerate(loader):\n",
        "            counter += 1\n",
        "            ids = data['ids'].to(device, dtype=torch.long)\n",
        "            mask = data['mask'].to(device, dtype=torch.long)\n",
        "            token_type_ids = data['token_type_ids'].to(device, dtype=torch.long)\n",
        "            targets = data['targets'].to(device, dtype=torch.float)\n",
        "\n",
        "            outputs = model(ids, mask, token_type_ids).logits\n",
        "\n",
        "            loss = loss_fn(outputs, targets)\n",
        "            losses.append(loss.item())\n",
        "            loss.backward()\n",
        "            optimizer.step()\n",
        "            optimizer.zero_grad()\n",
        "            if (float(loss.item()) < loss_lim) or counter == c_max:\n",
        "                break\n",
        "        # Evaluation done on train dataset for data cartography purposes\n",
        "        print('Data Cartography sample generation...')\n",
        "        model.eval()\n",
        "        with torch.no_grad():\n",
        "            for _, data in enumerate(loader):\n",
        "                index = data['index']\n",
        "                ids = data['ids'].to(device, dtype=torch.long)\n",
        "                mask = data['mask'].to(device, dtype=torch.long)\n",
        "                token_type_ids = data['token_type_ids'].to(device, dtype=torch.long)\n",
        "                targets = data['targets'].to(device, dtype=torch.float)\n",
        "\n",
        "                outputs = model(ids, mask, token_type_ids).logits\n",
        "                index = index.cpu().detach().numpy()\n",
        "                fin_targets = targets.cpu().detach().numpy()\n",
        "                fin_outputs = outputs.cpu().detach().numpy()\n",
        "\n",
        "                for i in range(len(index)):\n",
        "                  results[index[i]] = {'prob':fin_outputs[i], 'corr':fin_targets[i]}\n",
        "        compute_prob_spam(results,train_dyn)\n",
        "        if (float(loss.item()) < loss_lim) or counter == c_max:\n",
        "            break\n",
        "    return losses, counter"
      ],
      "metadata": {
        "id": "V-z-Cm6fMtgX"
      },
      "execution_count": 6,
      "outputs": []
    },
    {
      "cell_type": "markdown",
      "source": [
        "##### Evaluation function definition"
      ],
      "metadata": {
        "id": "sAvuwc3vNge1"
      }
    },
    {
      "cell_type": "code",
      "source": [
        "def evaluation_run(model, loader, device):\n",
        "    results = []\n",
        "    for _, data in enumerate(loader):\n",
        "        ids = data['ids'].to(device, dtype=torch.long)\n",
        "        mask = data['mask'].to(device, dtype=torch.long)\n",
        "        token_type_ids = data['token_type_ids'].to(device, dtype=torch.long)\n",
        "\n",
        "        outputs = model(ids, mask, token_type_ids).logits\n",
        "        fin_outputs = torch.round(torch.nn.Softmax(dim=-1)(outputs)).cpu().detach().numpy()\n",
        "\n",
        "        results.extend(fin_outputs)\n",
        "    return results"
      ],
      "metadata": {
        "id": "Rka0TU3kNjOd"
      },
      "execution_count": 7,
      "outputs": []
    },
    {
      "cell_type": "markdown",
      "source": [
        "#### 0.3.3 Plotting functions"
      ],
      "metadata": {
        "id": "BWaFchF5FxdF"
      }
    },
    {
      "cell_type": "code",
      "source": [
        "def plot_data_map(dataframe: pd.DataFrame,\n",
        "                  plot_dir: os.path,\n",
        "                  hue_metric: str = 'correct.',\n",
        "                  title: str = 'SPAM-det-cart',\n",
        "                  model: str = 'BERT-tiny',\n",
        "                  show_hist: bool = False,\n",
        "                  max_instances_to_plot = 55000):\n",
        "    # Set style.\n",
        "    sns.set(style='whitegrid', font_scale=1.6, context='paper')\n",
        "\n",
        "\n",
        "    # Subsample data to plot, so the plot is not too busy.\n",
        "    dataframe = dataframe.sample(n=max_instances_to_plot if dataframe.shape[0] > max_instances_to_plot else len(dataframe))\n",
        "\n",
        "    # Normalize correctness to a value between 0 and 1.\n",
        "    dataframe = dataframe.assign(corr_frac = lambda d: d.correctness / d.correctness.max())\n",
        "    dataframe['correct.'] = [f\"{x:.1f}\" for x in dataframe['corr_frac']]\n",
        "\n",
        "    main_metric = 'variability'\n",
        "    other_metric = 'confidence'\n",
        "\n",
        "    hue = hue_metric\n",
        "    num_hues = len(dataframe[hue].unique().tolist())\n",
        "    #num_hues=4\n",
        "    hue_order = sorted(set(dataframe[hue].unique().tolist()))\n",
        "    style = hue_metric if num_hues < 8 else None\n",
        "\n",
        "    if not show_hist:\n",
        "        fig, ax0 = plt.subplots(1, 1, figsize=(8, 6))\n",
        "    else:\n",
        "        fig = plt.figure(figsize=(14, 10), )\n",
        "        gs = fig.add_gridspec(3, 2, width_ratios=[5, 1])\n",
        "        ax0 = fig.add_subplot(gs[:, 0])\n",
        "\n",
        "    # Make the scatterplot.\n",
        "    # Choose a palette.\n",
        "    pal = sns.diverging_palette(260, 15, n=num_hues, sep=10, center=\"dark\")\n",
        "\n",
        "    plot = sns.scatterplot(x=main_metric,\n",
        "                           y=other_metric,\n",
        "                           ax=ax0,\n",
        "                           data=dataframe,\n",
        "                           hue=hue,\n",
        "                           palette=pal,\n",
        "                           style=style,\n",
        "                           s=30,\n",
        "                           hue_order=hue_order)\n",
        "\n",
        "    # Annotate Regions.\n",
        "    bb = lambda c: dict(boxstyle=\"round,pad=0.3\", ec=c, lw=2, fc=\"white\")\n",
        "    func_annotate = lambda  text, xyc, bbc : ax0.annotate(text,\n",
        "                                                          xy=xyc,\n",
        "                                                          xycoords=\"axes fraction\",\n",
        "                                                          fontsize=15,\n",
        "                                                          color='black',\n",
        "                                                          va=\"center\",\n",
        "                                                          ha=\"center\",\n",
        "                                                          rotation=350,\n",
        "                                                           bbox=bb(bbc))\n",
        "    an1 = func_annotate(\"ambiguous\", xyc=(0.9, 0.5), bbc='black')\n",
        "    an2 = func_annotate(\"easy-to-learn\", xyc=(0.27, 0.85), bbc='r')\n",
        "    an3 = func_annotate(\"hard-to-learn\", xyc=(0.35, 0.25), bbc='b')\n",
        "\n",
        "\n",
        "    if not show_hist:\n",
        "        plot.legend(ncol=1, bbox_to_anchor=[0.175, 0.5], loc='right')\n",
        "    else:\n",
        "        plot.legend(fancybox=True, shadow=True,  ncol=1)\n",
        "    plot.set_xlabel('variability')\n",
        "    plot.set_ylabel('confidence')\n",
        "\n",
        "    if show_hist:\n",
        "        plot.set_title(f\"{title}-{model} Data Map\", fontsize=17)\n",
        "\n",
        "        # Make the histograms.\n",
        "        ax1 = fig.add_subplot(gs[0, 1])\n",
        "        ax2 = fig.add_subplot(gs[1, 1])\n",
        "        ax3 = fig.add_subplot(gs[2, 1])\n",
        "\n",
        "        plott0 = dataframe.hist(column=['confidence'], ax=ax1, color='#622a87')\n",
        "        plott0[0].set_title('')\n",
        "        plott0[0].set_xlabel('confidence')\n",
        "        plott0[0].set_ylabel('density')\n",
        "\n",
        "        plott1 = dataframe.hist(column=['variability'], ax=ax2, color='teal')\n",
        "        plott1[0].set_title('')\n",
        "        plott1[0].set_xlabel('variability')\n",
        "        plott1[0].set_ylabel('density')\n",
        "\n",
        "        plot2 = sns.countplot(x=\"correct.\", data=dataframe, ax=ax3, color='#86bf91')\n",
        "        ax3.xaxis.grid(True) # Show the vertical gridlines\n",
        "\n",
        "        plot2.set_title('')\n",
        "        plot2.set_xlabel('correctness')\n",
        "        plot2.set_ylabel('density')\n",
        "\n",
        "    fig.tight_layout()\n",
        "    filename = f'{plot_dir}/{title}_{model}.pdf'# if show_hist else f'figures/compact_{title}_{model}.pdf'\n",
        "    fig.savefig(filename, dpi=300)"
      ],
      "metadata": {
        "id": "i6Fgp2jmG8Yj"
      },
      "execution_count": 8,
      "outputs": []
    },
    {
      "cell_type": "code",
      "source": [
        "def annotate(df):\n",
        "  df2=df.copy()\n",
        "  for i in range(len(df)):\n",
        "    if df2.iloc[i]['confidence']>0.6 and df2.iloc[i]['variability']<0.15:\n",
        "      df2.loc[i,'ann']='easy'\n",
        "    elif df2.iloc[i]['confidence']<0.5 and df2.iloc[i]['variability']<0.15:\n",
        "      df2.loc[i,'ann']='hard'\n",
        "    else:\n",
        "      df2.loc[i,'ann']='ambigous'\n",
        "  return df2"
      ],
      "metadata": {
        "id": "RMQvznAvIK43"
      },
      "execution_count": 9,
      "outputs": []
    },
    {
      "cell_type": "code",
      "source": [
        "def hard_to_learn(df,labels,threshold=0.25):\n",
        "  diz={i:0 for i in labels}  #-> return the percentage of hard to learn sample per class\n",
        "  for i in range(len(df)):\n",
        "    if df.iloc[i]['c*(1-v)']<threshold:\n",
        "      for k in labels:\n",
        "        if df.iloc[i][k]==1:\n",
        "          diz[k]+=1\n",
        "  for j in labels:\n",
        "    diz[j] /= df[j].sum()\n",
        "\n",
        "  plt.bar(diz.keys(),diz.values(),color='blue')\n",
        "\n",
        "# Add labels and title\n",
        "  plt.xlabel('Class')\n",
        "  plt.ylabel('Value')\n",
        "  plt.title('Percentage of Hard To Learn')"
      ],
      "metadata": {
        "id": "ZPp6GQZJQ2vW"
      },
      "execution_count": 10,
      "outputs": []
    },
    {
      "cell_type": "markdown",
      "source": [
        "#### 0.3.4 Data cartography functions"
      ],
      "metadata": {
        "id": "QMfgZVNJF2jJ"
      }
    },
    {
      "cell_type": "code",
      "source": [
        "def check(A,B):\n",
        "  for a,b in zip(A,B):\n",
        "    if a!=b:\n",
        "      return False\n",
        "  return True"
      ],
      "metadata": {
        "id": "zdQNOskWHJRm"
      },
      "execution_count": 11,
      "outputs": []
    },
    {
      "cell_type": "code",
      "source": [
        "def compute_prob_spam(results,train_dyn):\n",
        "    for i,logits in zip(results.keys(),results.values()):\n",
        "        probs = torch.nn.functional.softmax(torch.Tensor(logits['prob']), dim=-1).numpy()\n",
        "        true_class=np.argmax(logits['corr']) #to have probabilities from outputs\n",
        "        true_class_prob =(probs[true_class])  #the probability of having the right class\n",
        "        prediction = np.argmax(probs)  #argmax to obtain the predicted class\n",
        "        is_correct = (prediction == true_class).item() #test if the class is the right one\n",
        "        if i in train_dyn.keys():\n",
        "\n",
        "            train_dyn[i]['prob'].append(true_class_prob)\n",
        "            train_dyn[i]['corr'].append(is_correct)\n",
        "        else:\n",
        "            train_dyn[i]={}\n",
        "            train_dyn[i]['prob']=[true_class_prob]\n",
        "            train_dyn[i]['corr']=[is_correct]"
      ],
      "metadata": {
        "id": "ia1an8u4HzaT"
      },
      "execution_count": 12,
      "outputs": []
    },
    {
      "cell_type": "code",
      "source": [
        "def compute_metrics(train_dyn):\n",
        "    confidence={}\n",
        "    variability={}\n",
        "    correctness={}\n",
        "    variability_func = lambda conf: np.std(conf)\n",
        "    for i in (train_dyn.keys()):\n",
        "        correctness[i] = sum(train_dyn[i]['corr'])\n",
        "        confidence[i] = np.mean(train_dyn[i]['prob'])  #by definition\n",
        "        variability[i] = variability_func(train_dyn[i]['prob'])\n",
        "    column_names = ['index',\n",
        "                    'confidence',\n",
        "                    'variability',\n",
        "                    'correctness',\n",
        "                  ]\n",
        "    df=pd.DataFrame([[i,\n",
        "                        confidence[i],\n",
        "                        variability[i],\n",
        "                        correctness[i],\n",
        "                        ] for i in train_dyn.keys()], columns=column_names)\n",
        "\n",
        "    return df.set_index('index')"
      ],
      "metadata": {
        "id": "b_SFrN6qIBPm"
      },
      "execution_count": 13,
      "outputs": []
    },
    {
      "cell_type": "markdown",
      "source": [
        "## Section 1: Dataset import"
      ],
      "metadata": {
        "id": "k7vFQDAiOClz"
      }
    },
    {
      "cell_type": "code",
      "source": [
        "!pip install -q kaggle"
      ],
      "metadata": {
        "id": "OCYwzKSH8NHC"
      },
      "execution_count": 14,
      "outputs": []
    },
    {
      "cell_type": "code",
      "source": [
        "from google.colab import userdata\n",
        "import os\n",
        "\n",
        "os.environ[\"KAGGLE_KEY\"] = userdata.get('KAGGLE_KEY')\n",
        "os.environ[\"KAGGLE_USERNAME\"] = userdata.get('KAGGLE_USERNAME')"
      ],
      "metadata": {
        "id": "S5kFSSupJQw8"
      },
      "execution_count": 15,
      "outputs": []
    },
    {
      "cell_type": "code",
      "source": [
        "## Reset environment\n",
        "!rm -rf ./spam-dataset"
      ],
      "metadata": {
        "id": "oU-kAelC_K0L"
      },
      "execution_count": 16,
      "outputs": []
    },
    {
      "cell_type": "code",
      "source": [
        "!kaggle datasets download -d 'yashpaloswal/spamham-email-classification-nlp'\n",
        "!mkdir ./spam-dataset\n",
        "!unzip -jq '/content/spamham-email-classification-nlp.zip' -d ./spam-dataset/"
      ],
      "metadata": {
        "colab": {
          "base_uri": "https://localhost:8080/"
        },
        "id": "v5t591Cr8dNr",
        "outputId": "3ee1cd38-778e-4bcf-dbde-b35f0a33e6d5"
      },
      "execution_count": 17,
      "outputs": [
        {
          "output_type": "stream",
          "name": "stdout",
          "text": [
            "Warning: Looks like you're using an outdated API Version, please consider updating (server 1.6.14 / client 1.6.12)\n",
            "Dataset URL: https://www.kaggle.com/datasets/yashpaloswal/spamham-email-classification-nlp\n",
            "License(s): DbCL-1.0\n",
            "spamham-email-classification-nlp.zip: Skipping, found more recently modified local copy (use --force to force download)\n"
          ]
        }
      ]
    },
    {
      "cell_type": "code",
      "source": [
        "df = pd.read_csv(\"./spam-dataset/emails.csv\", index_col = False)"
      ],
      "metadata": {
        "id": "3_KXUt-lcgEC"
      },
      "execution_count": 18,
      "outputs": []
    },
    {
      "cell_type": "code",
      "source": [
        "labels = df.Spam.unique().astype(str)\n",
        "one_hot = pd.get_dummies(df.Spam).astype(float)\n",
        "one_hot.rename(columns={0:'0',1:'1'},inplace=True)\n",
        "df.drop(columns=['Spam'], inplace=True)\n",
        "df = df.join(one_hot)\n",
        "train, test = train_test_split(df, test_size=0.9)\n",
        "train.reset_index(inplace=True)\n",
        "test.reset_index(inplace=True)"
      ],
      "metadata": {
        "id": "LjNY2IUGdHm4"
      },
      "execution_count": 19,
      "outputs": []
    },
    {
      "source": [
        "train.head()"
      ],
      "cell_type": "code",
      "execution_count": 20,
      "outputs": [
        {
          "output_type": "execute_result",
          "data": {
            "text/plain": [
              "   index                                               Text    0    1\n",
              "0   1191  Subject: i was on your xango web site  hello x...  0.0  1.0\n",
              "1   1542  Subject: interview with the enron corp . resea...  1.0  0.0\n",
              "2   3301  Subject: invitees for grant ' s party  vince :...  1.0  0.0\n",
              "3   3324  Subject: my new info  dear friends and colleag...  1.0  0.0\n",
              "4   2539  Subject: re : telephone interview with the enr...  1.0  0.0"
            ],
            "text/html": [
              "\n",
              "  <div id=\"df-323545d6-b4ec-4c23-a5de-df9aeeac2d2d\" class=\"colab-df-container\">\n",
              "    <div>\n",
              "<style scoped>\n",
              "    .dataframe tbody tr th:only-of-type {\n",
              "        vertical-align: middle;\n",
              "    }\n",
              "\n",
              "    .dataframe tbody tr th {\n",
              "        vertical-align: top;\n",
              "    }\n",
              "\n",
              "    .dataframe thead th {\n",
              "        text-align: right;\n",
              "    }\n",
              "</style>\n",
              "<table border=\"1\" class=\"dataframe\">\n",
              "  <thead>\n",
              "    <tr style=\"text-align: right;\">\n",
              "      <th></th>\n",
              "      <th>index</th>\n",
              "      <th>Text</th>\n",
              "      <th>0</th>\n",
              "      <th>1</th>\n",
              "    </tr>\n",
              "  </thead>\n",
              "  <tbody>\n",
              "    <tr>\n",
              "      <th>0</th>\n",
              "      <td>1191</td>\n",
              "      <td>Subject: i was on your xango web site  hello x...</td>\n",
              "      <td>0.0</td>\n",
              "      <td>1.0</td>\n",
              "    </tr>\n",
              "    <tr>\n",
              "      <th>1</th>\n",
              "      <td>1542</td>\n",
              "      <td>Subject: interview with the enron corp . resea...</td>\n",
              "      <td>1.0</td>\n",
              "      <td>0.0</td>\n",
              "    </tr>\n",
              "    <tr>\n",
              "      <th>2</th>\n",
              "      <td>3301</td>\n",
              "      <td>Subject: invitees for grant ' s party  vince :...</td>\n",
              "      <td>1.0</td>\n",
              "      <td>0.0</td>\n",
              "    </tr>\n",
              "    <tr>\n",
              "      <th>3</th>\n",
              "      <td>3324</td>\n",
              "      <td>Subject: my new info  dear friends and colleag...</td>\n",
              "      <td>1.0</td>\n",
              "      <td>0.0</td>\n",
              "    </tr>\n",
              "    <tr>\n",
              "      <th>4</th>\n",
              "      <td>2539</td>\n",
              "      <td>Subject: re : telephone interview with the enr...</td>\n",
              "      <td>1.0</td>\n",
              "      <td>0.0</td>\n",
              "    </tr>\n",
              "  </tbody>\n",
              "</table>\n",
              "</div>\n",
              "    <div class=\"colab-df-buttons\">\n",
              "\n",
              "  <div class=\"colab-df-container\">\n",
              "    <button class=\"colab-df-convert\" onclick=\"convertToInteractive('df-323545d6-b4ec-4c23-a5de-df9aeeac2d2d')\"\n",
              "            title=\"Convert this dataframe to an interactive table.\"\n",
              "            style=\"display:none;\">\n",
              "\n",
              "  <svg xmlns=\"http://www.w3.org/2000/svg\" height=\"24px\" viewBox=\"0 -960 960 960\">\n",
              "    <path d=\"M120-120v-720h720v720H120Zm60-500h600v-160H180v160Zm220 220h160v-160H400v160Zm0 220h160v-160H400v160ZM180-400h160v-160H180v160Zm440 0h160v-160H620v160ZM180-180h160v-160H180v160Zm440 0h160v-160H620v160Z\"/>\n",
              "  </svg>\n",
              "    </button>\n",
              "\n",
              "  <style>\n",
              "    .colab-df-container {\n",
              "      display:flex;\n",
              "      gap: 12px;\n",
              "    }\n",
              "\n",
              "    .colab-df-convert {\n",
              "      background-color: #E8F0FE;\n",
              "      border: none;\n",
              "      border-radius: 50%;\n",
              "      cursor: pointer;\n",
              "      display: none;\n",
              "      fill: #1967D2;\n",
              "      height: 32px;\n",
              "      padding: 0 0 0 0;\n",
              "      width: 32px;\n",
              "    }\n",
              "\n",
              "    .colab-df-convert:hover {\n",
              "      background-color: #E2EBFA;\n",
              "      box-shadow: 0px 1px 2px rgba(60, 64, 67, 0.3), 0px 1px 3px 1px rgba(60, 64, 67, 0.15);\n",
              "      fill: #174EA6;\n",
              "    }\n",
              "\n",
              "    .colab-df-buttons div {\n",
              "      margin-bottom: 4px;\n",
              "    }\n",
              "\n",
              "    [theme=dark] .colab-df-convert {\n",
              "      background-color: #3B4455;\n",
              "      fill: #D2E3FC;\n",
              "    }\n",
              "\n",
              "    [theme=dark] .colab-df-convert:hover {\n",
              "      background-color: #434B5C;\n",
              "      box-shadow: 0px 1px 3px 1px rgba(0, 0, 0, 0.15);\n",
              "      filter: drop-shadow(0px 1px 2px rgba(0, 0, 0, 0.3));\n",
              "      fill: #FFFFFF;\n",
              "    }\n",
              "  </style>\n",
              "\n",
              "    <script>\n",
              "      const buttonEl =\n",
              "        document.querySelector('#df-323545d6-b4ec-4c23-a5de-df9aeeac2d2d button.colab-df-convert');\n",
              "      buttonEl.style.display =\n",
              "        google.colab.kernel.accessAllowed ? 'block' : 'none';\n",
              "\n",
              "      async function convertToInteractive(key) {\n",
              "        const element = document.querySelector('#df-323545d6-b4ec-4c23-a5de-df9aeeac2d2d');\n",
              "        const dataTable =\n",
              "          await google.colab.kernel.invokeFunction('convertToInteractive',\n",
              "                                                    [key], {});\n",
              "        if (!dataTable) return;\n",
              "\n",
              "        const docLinkHtml = 'Like what you see? Visit the ' +\n",
              "          '<a target=\"_blank\" href=https://colab.research.google.com/notebooks/data_table.ipynb>data table notebook</a>'\n",
              "          + ' to learn more about interactive tables.';\n",
              "        element.innerHTML = '';\n",
              "        dataTable['output_type'] = 'display_data';\n",
              "        await google.colab.output.renderOutput(dataTable, element);\n",
              "        const docLink = document.createElement('div');\n",
              "        docLink.innerHTML = docLinkHtml;\n",
              "        element.appendChild(docLink);\n",
              "      }\n",
              "    </script>\n",
              "  </div>\n",
              "\n",
              "\n",
              "<div id=\"df-a6b920e0-00bf-42f3-af35-a2bd46ce0c42\">\n",
              "  <button class=\"colab-df-quickchart\" onclick=\"quickchart('df-a6b920e0-00bf-42f3-af35-a2bd46ce0c42')\"\n",
              "            title=\"Suggest charts\"\n",
              "            style=\"display:none;\">\n",
              "\n",
              "<svg xmlns=\"http://www.w3.org/2000/svg\" height=\"24px\"viewBox=\"0 0 24 24\"\n",
              "     width=\"24px\">\n",
              "    <g>\n",
              "        <path d=\"M19 3H5c-1.1 0-2 .9-2 2v14c0 1.1.9 2 2 2h14c1.1 0 2-.9 2-2V5c0-1.1-.9-2-2-2zM9 17H7v-7h2v7zm4 0h-2V7h2v10zm4 0h-2v-4h2v4z\"/>\n",
              "    </g>\n",
              "</svg>\n",
              "  </button>\n",
              "\n",
              "<style>\n",
              "  .colab-df-quickchart {\n",
              "      --bg-color: #E8F0FE;\n",
              "      --fill-color: #1967D2;\n",
              "      --hover-bg-color: #E2EBFA;\n",
              "      --hover-fill-color: #174EA6;\n",
              "      --disabled-fill-color: #AAA;\n",
              "      --disabled-bg-color: #DDD;\n",
              "  }\n",
              "\n",
              "  [theme=dark] .colab-df-quickchart {\n",
              "      --bg-color: #3B4455;\n",
              "      --fill-color: #D2E3FC;\n",
              "      --hover-bg-color: #434B5C;\n",
              "      --hover-fill-color: #FFFFFF;\n",
              "      --disabled-bg-color: #3B4455;\n",
              "      --disabled-fill-color: #666;\n",
              "  }\n",
              "\n",
              "  .colab-df-quickchart {\n",
              "    background-color: var(--bg-color);\n",
              "    border: none;\n",
              "    border-radius: 50%;\n",
              "    cursor: pointer;\n",
              "    display: none;\n",
              "    fill: var(--fill-color);\n",
              "    height: 32px;\n",
              "    padding: 0;\n",
              "    width: 32px;\n",
              "  }\n",
              "\n",
              "  .colab-df-quickchart:hover {\n",
              "    background-color: var(--hover-bg-color);\n",
              "    box-shadow: 0 1px 2px rgba(60, 64, 67, 0.3), 0 1px 3px 1px rgba(60, 64, 67, 0.15);\n",
              "    fill: var(--button-hover-fill-color);\n",
              "  }\n",
              "\n",
              "  .colab-df-quickchart-complete:disabled,\n",
              "  .colab-df-quickchart-complete:disabled:hover {\n",
              "    background-color: var(--disabled-bg-color);\n",
              "    fill: var(--disabled-fill-color);\n",
              "    box-shadow: none;\n",
              "  }\n",
              "\n",
              "  .colab-df-spinner {\n",
              "    border: 2px solid var(--fill-color);\n",
              "    border-color: transparent;\n",
              "    border-bottom-color: var(--fill-color);\n",
              "    animation:\n",
              "      spin 1s steps(1) infinite;\n",
              "  }\n",
              "\n",
              "  @keyframes spin {\n",
              "    0% {\n",
              "      border-color: transparent;\n",
              "      border-bottom-color: var(--fill-color);\n",
              "      border-left-color: var(--fill-color);\n",
              "    }\n",
              "    20% {\n",
              "      border-color: transparent;\n",
              "      border-left-color: var(--fill-color);\n",
              "      border-top-color: var(--fill-color);\n",
              "    }\n",
              "    30% {\n",
              "      border-color: transparent;\n",
              "      border-left-color: var(--fill-color);\n",
              "      border-top-color: var(--fill-color);\n",
              "      border-right-color: var(--fill-color);\n",
              "    }\n",
              "    40% {\n",
              "      border-color: transparent;\n",
              "      border-right-color: var(--fill-color);\n",
              "      border-top-color: var(--fill-color);\n",
              "    }\n",
              "    60% {\n",
              "      border-color: transparent;\n",
              "      border-right-color: var(--fill-color);\n",
              "    }\n",
              "    80% {\n",
              "      border-color: transparent;\n",
              "      border-right-color: var(--fill-color);\n",
              "      border-bottom-color: var(--fill-color);\n",
              "    }\n",
              "    90% {\n",
              "      border-color: transparent;\n",
              "      border-bottom-color: var(--fill-color);\n",
              "    }\n",
              "  }\n",
              "</style>\n",
              "\n",
              "  <script>\n",
              "    async function quickchart(key) {\n",
              "      const quickchartButtonEl =\n",
              "        document.querySelector('#' + key + ' button');\n",
              "      quickchartButtonEl.disabled = true;  // To prevent multiple clicks.\n",
              "      quickchartButtonEl.classList.add('colab-df-spinner');\n",
              "      try {\n",
              "        const charts = await google.colab.kernel.invokeFunction(\n",
              "            'suggestCharts', [key], {});\n",
              "      } catch (error) {\n",
              "        console.error('Error during call to suggestCharts:', error);\n",
              "      }\n",
              "      quickchartButtonEl.classList.remove('colab-df-spinner');\n",
              "      quickchartButtonEl.classList.add('colab-df-quickchart-complete');\n",
              "    }\n",
              "    (() => {\n",
              "      let quickchartButtonEl =\n",
              "        document.querySelector('#df-a6b920e0-00bf-42f3-af35-a2bd46ce0c42 button');\n",
              "      quickchartButtonEl.style.display =\n",
              "        google.colab.kernel.accessAllowed ? 'block' : 'none';\n",
              "    })();\n",
              "  </script>\n",
              "</div>\n",
              "    </div>\n",
              "  </div>\n"
            ],
            "application/vnd.google.colaboratory.intrinsic+json": {
              "type": "dataframe",
              "variable_name": "train",
              "summary": "{\n  \"name\": \"train\",\n  \"rows\": 572,\n  \"fields\": [\n    {\n      \"column\": \"index\",\n      \"properties\": {\n        \"dtype\": \"number\",\n        \"std\": 1644,\n        \"min\": 4,\n        \"max\": 5717,\n        \"num_unique_values\": 572,\n        \"samples\": [\n          775,\n          417,\n          5092\n        ],\n        \"semantic_type\": \"\",\n        \"description\": \"\"\n      }\n    },\n    {\n      \"column\": \"Text\",\n      \"properties\": {\n        \"dtype\": \"string\",\n        \"num_unique_values\": 572,\n        \"samples\": [\n          \"Subject: all graphics software available , cheap oem versions .  good morning ,  we we offer latest oem packages of all graphics and publishing software from corei , macromedia , adobe and others .  $ 80 adobe photoshop 8 . 0 / cs  $ 140 macromedia studio mx 2004  $ 120 adobe acrobat 7 . 0 professionai  $ 150 adobe premiere pro 1 . 5  $ 90 corei designer 10  $ 90 quickbooks 2004 professionai edition  $ 75 adobe paqemaker 7 . 0  $ 70 xara x vl . 1  $ 75 adobe audition 1 . 5  $ 90 discreet 3 d studio max 7  $ 115 adobe golive cs  $ 135 adobe after effects 6 . 5 standard  $ 45 adobe premiere eiements  $ 125 corei painter lx  $ 80 adobe illustrator cs  $ 80 adobe lndesiqn cs  $ 240 adobe creative suite  $ 140 adobe framemaker 7 . 1  $ 50 ulead cooi 3 d production studio 1 . 0 . 1  $ 90 alias motion buiider 6 professionai  $ 30 quicken 2004 premier home & biz  $ 30 adobe photoshop eiements 3 . 0  $ 110 adobe premiere pro 7 . 0  learn more . . .  sincereiy ,  tynisha \",\n          \"Subject: re [ 1 ]  death penalty it ' s o . k . should be allowed in 1825 in 1894 tomb raider\",\n          \"Subject: re : my model for spikes  valery ,  i may be in dallas in the next few weeks .  i shall probably come to dallas one friday .  i shall let you know well in advance .  vince  \\\" valery kholodnyi \\\" on 01 / 04 / 2001 08 : 29 : 37 am  to : vince . j . kaminski @ enron . com  cc :  subject : re : my model for spikes  dear dr . kaminski ,  i would like to apologize for the delay responding , i was on vocation .  thank you very much for your interest in my work and for your suggestion to  meet  for lunch / dinner . i will be truly happy to do so . in this regard could you  please let me know what day might be convenient for you . since i am going to  fly  from dallas , i would like , if possible , to plan it in advance .  i look forward to hearing from you and to seeing you soon .  sincerely ,  valery kholodnyi\"\n        ],\n        \"semantic_type\": \"\",\n        \"description\": \"\"\n      }\n    },\n    {\n      \"column\": \"0\",\n      \"properties\": {\n        \"dtype\": \"number\",\n        \"std\": 0.4171386212593309,\n        \"min\": 0.0,\n        \"max\": 1.0,\n        \"num_unique_values\": 2,\n        \"samples\": [\n          1.0,\n          0.0\n        ],\n        \"semantic_type\": \"\",\n        \"description\": \"\"\n      }\n    },\n    {\n      \"column\": \"1\",\n      \"properties\": {\n        \"dtype\": \"number\",\n        \"std\": 0.4171386212593309,\n        \"min\": 0.0,\n        \"max\": 1.0,\n        \"num_unique_values\": 2,\n        \"samples\": [\n          0.0,\n          1.0\n        ],\n        \"semantic_type\": \"\",\n        \"description\": \"\"\n      }\n    }\n  ]\n}"
            }
          },
          "metadata": {},
          "execution_count": 20
        }
      ],
      "metadata": {
        "colab": {
          "base_uri": "https://localhost:8080/",
          "height": 206
        },
        "id": "MB4UNkBfdY1H",
        "outputId": "2f4c581e-8850-45f6-a2a4-d12068d321f9"
      }
    },
    {
      "cell_type": "code",
      "source": [
        "test.head()"
      ],
      "metadata": {
        "colab": {
          "base_uri": "https://localhost:8080/",
          "height": 206
        },
        "id": "RW7S-EvGMlC0",
        "outputId": "b3f84067-264e-4785-f0c6-9353c90e2d81"
      },
      "execution_count": 21,
      "outputs": [
        {
          "output_type": "execute_result",
          "data": {
            "text/plain": [
              "   index                                               Text    0    1\n",
              "0   4445  Subject: re : energy derivatives conference - ...  1.0  0.0\n",
              "1   4118  Subject: financial maths course , part 2  vinc...  1.0  0.0\n",
              "2   3893  Subject: re : bullet points  please respond to...  1.0  0.0\n",
              "3   4210  Subject: re : enron default swaps  darrell ,  ...  1.0  0.0\n",
              "4   5603  Subject: re : power question  steve ,  elena c...  1.0  0.0"
            ],
            "text/html": [
              "\n",
              "  <div id=\"df-ae214162-d450-4916-a066-b06dae8de825\" class=\"colab-df-container\">\n",
              "    <div>\n",
              "<style scoped>\n",
              "    .dataframe tbody tr th:only-of-type {\n",
              "        vertical-align: middle;\n",
              "    }\n",
              "\n",
              "    .dataframe tbody tr th {\n",
              "        vertical-align: top;\n",
              "    }\n",
              "\n",
              "    .dataframe thead th {\n",
              "        text-align: right;\n",
              "    }\n",
              "</style>\n",
              "<table border=\"1\" class=\"dataframe\">\n",
              "  <thead>\n",
              "    <tr style=\"text-align: right;\">\n",
              "      <th></th>\n",
              "      <th>index</th>\n",
              "      <th>Text</th>\n",
              "      <th>0</th>\n",
              "      <th>1</th>\n",
              "    </tr>\n",
              "  </thead>\n",
              "  <tbody>\n",
              "    <tr>\n",
              "      <th>0</th>\n",
              "      <td>4445</td>\n",
              "      <td>Subject: re : energy derivatives conference - ...</td>\n",
              "      <td>1.0</td>\n",
              "      <td>0.0</td>\n",
              "    </tr>\n",
              "    <tr>\n",
              "      <th>1</th>\n",
              "      <td>4118</td>\n",
              "      <td>Subject: financial maths course , part 2  vinc...</td>\n",
              "      <td>1.0</td>\n",
              "      <td>0.0</td>\n",
              "    </tr>\n",
              "    <tr>\n",
              "      <th>2</th>\n",
              "      <td>3893</td>\n",
              "      <td>Subject: re : bullet points  please respond to...</td>\n",
              "      <td>1.0</td>\n",
              "      <td>0.0</td>\n",
              "    </tr>\n",
              "    <tr>\n",
              "      <th>3</th>\n",
              "      <td>4210</td>\n",
              "      <td>Subject: re : enron default swaps  darrell ,  ...</td>\n",
              "      <td>1.0</td>\n",
              "      <td>0.0</td>\n",
              "    </tr>\n",
              "    <tr>\n",
              "      <th>4</th>\n",
              "      <td>5603</td>\n",
              "      <td>Subject: re : power question  steve ,  elena c...</td>\n",
              "      <td>1.0</td>\n",
              "      <td>0.0</td>\n",
              "    </tr>\n",
              "  </tbody>\n",
              "</table>\n",
              "</div>\n",
              "    <div class=\"colab-df-buttons\">\n",
              "\n",
              "  <div class=\"colab-df-container\">\n",
              "    <button class=\"colab-df-convert\" onclick=\"convertToInteractive('df-ae214162-d450-4916-a066-b06dae8de825')\"\n",
              "            title=\"Convert this dataframe to an interactive table.\"\n",
              "            style=\"display:none;\">\n",
              "\n",
              "  <svg xmlns=\"http://www.w3.org/2000/svg\" height=\"24px\" viewBox=\"0 -960 960 960\">\n",
              "    <path d=\"M120-120v-720h720v720H120Zm60-500h600v-160H180v160Zm220 220h160v-160H400v160Zm0 220h160v-160H400v160ZM180-400h160v-160H180v160Zm440 0h160v-160H620v160ZM180-180h160v-160H180v160Zm440 0h160v-160H620v160Z\"/>\n",
              "  </svg>\n",
              "    </button>\n",
              "\n",
              "  <style>\n",
              "    .colab-df-container {\n",
              "      display:flex;\n",
              "      gap: 12px;\n",
              "    }\n",
              "\n",
              "    .colab-df-convert {\n",
              "      background-color: #E8F0FE;\n",
              "      border: none;\n",
              "      border-radius: 50%;\n",
              "      cursor: pointer;\n",
              "      display: none;\n",
              "      fill: #1967D2;\n",
              "      height: 32px;\n",
              "      padding: 0 0 0 0;\n",
              "      width: 32px;\n",
              "    }\n",
              "\n",
              "    .colab-df-convert:hover {\n",
              "      background-color: #E2EBFA;\n",
              "      box-shadow: 0px 1px 2px rgba(60, 64, 67, 0.3), 0px 1px 3px 1px rgba(60, 64, 67, 0.15);\n",
              "      fill: #174EA6;\n",
              "    }\n",
              "\n",
              "    .colab-df-buttons div {\n",
              "      margin-bottom: 4px;\n",
              "    }\n",
              "\n",
              "    [theme=dark] .colab-df-convert {\n",
              "      background-color: #3B4455;\n",
              "      fill: #D2E3FC;\n",
              "    }\n",
              "\n",
              "    [theme=dark] .colab-df-convert:hover {\n",
              "      background-color: #434B5C;\n",
              "      box-shadow: 0px 1px 3px 1px rgba(0, 0, 0, 0.15);\n",
              "      filter: drop-shadow(0px 1px 2px rgba(0, 0, 0, 0.3));\n",
              "      fill: #FFFFFF;\n",
              "    }\n",
              "  </style>\n",
              "\n",
              "    <script>\n",
              "      const buttonEl =\n",
              "        document.querySelector('#df-ae214162-d450-4916-a066-b06dae8de825 button.colab-df-convert');\n",
              "      buttonEl.style.display =\n",
              "        google.colab.kernel.accessAllowed ? 'block' : 'none';\n",
              "\n",
              "      async function convertToInteractive(key) {\n",
              "        const element = document.querySelector('#df-ae214162-d450-4916-a066-b06dae8de825');\n",
              "        const dataTable =\n",
              "          await google.colab.kernel.invokeFunction('convertToInteractive',\n",
              "                                                    [key], {});\n",
              "        if (!dataTable) return;\n",
              "\n",
              "        const docLinkHtml = 'Like what you see? Visit the ' +\n",
              "          '<a target=\"_blank\" href=https://colab.research.google.com/notebooks/data_table.ipynb>data table notebook</a>'\n",
              "          + ' to learn more about interactive tables.';\n",
              "        element.innerHTML = '';\n",
              "        dataTable['output_type'] = 'display_data';\n",
              "        await google.colab.output.renderOutput(dataTable, element);\n",
              "        const docLink = document.createElement('div');\n",
              "        docLink.innerHTML = docLinkHtml;\n",
              "        element.appendChild(docLink);\n",
              "      }\n",
              "    </script>\n",
              "  </div>\n",
              "\n",
              "\n",
              "<div id=\"df-3dfd7f2f-8cb2-4bc2-ac64-caabac0d0f99\">\n",
              "  <button class=\"colab-df-quickchart\" onclick=\"quickchart('df-3dfd7f2f-8cb2-4bc2-ac64-caabac0d0f99')\"\n",
              "            title=\"Suggest charts\"\n",
              "            style=\"display:none;\">\n",
              "\n",
              "<svg xmlns=\"http://www.w3.org/2000/svg\" height=\"24px\"viewBox=\"0 0 24 24\"\n",
              "     width=\"24px\">\n",
              "    <g>\n",
              "        <path d=\"M19 3H5c-1.1 0-2 .9-2 2v14c0 1.1.9 2 2 2h14c1.1 0 2-.9 2-2V5c0-1.1-.9-2-2-2zM9 17H7v-7h2v7zm4 0h-2V7h2v10zm4 0h-2v-4h2v4z\"/>\n",
              "    </g>\n",
              "</svg>\n",
              "  </button>\n",
              "\n",
              "<style>\n",
              "  .colab-df-quickchart {\n",
              "      --bg-color: #E8F0FE;\n",
              "      --fill-color: #1967D2;\n",
              "      --hover-bg-color: #E2EBFA;\n",
              "      --hover-fill-color: #174EA6;\n",
              "      --disabled-fill-color: #AAA;\n",
              "      --disabled-bg-color: #DDD;\n",
              "  }\n",
              "\n",
              "  [theme=dark] .colab-df-quickchart {\n",
              "      --bg-color: #3B4455;\n",
              "      --fill-color: #D2E3FC;\n",
              "      --hover-bg-color: #434B5C;\n",
              "      --hover-fill-color: #FFFFFF;\n",
              "      --disabled-bg-color: #3B4455;\n",
              "      --disabled-fill-color: #666;\n",
              "  }\n",
              "\n",
              "  .colab-df-quickchart {\n",
              "    background-color: var(--bg-color);\n",
              "    border: none;\n",
              "    border-radius: 50%;\n",
              "    cursor: pointer;\n",
              "    display: none;\n",
              "    fill: var(--fill-color);\n",
              "    height: 32px;\n",
              "    padding: 0;\n",
              "    width: 32px;\n",
              "  }\n",
              "\n",
              "  .colab-df-quickchart:hover {\n",
              "    background-color: var(--hover-bg-color);\n",
              "    box-shadow: 0 1px 2px rgba(60, 64, 67, 0.3), 0 1px 3px 1px rgba(60, 64, 67, 0.15);\n",
              "    fill: var(--button-hover-fill-color);\n",
              "  }\n",
              "\n",
              "  .colab-df-quickchart-complete:disabled,\n",
              "  .colab-df-quickchart-complete:disabled:hover {\n",
              "    background-color: var(--disabled-bg-color);\n",
              "    fill: var(--disabled-fill-color);\n",
              "    box-shadow: none;\n",
              "  }\n",
              "\n",
              "  .colab-df-spinner {\n",
              "    border: 2px solid var(--fill-color);\n",
              "    border-color: transparent;\n",
              "    border-bottom-color: var(--fill-color);\n",
              "    animation:\n",
              "      spin 1s steps(1) infinite;\n",
              "  }\n",
              "\n",
              "  @keyframes spin {\n",
              "    0% {\n",
              "      border-color: transparent;\n",
              "      border-bottom-color: var(--fill-color);\n",
              "      border-left-color: var(--fill-color);\n",
              "    }\n",
              "    20% {\n",
              "      border-color: transparent;\n",
              "      border-left-color: var(--fill-color);\n",
              "      border-top-color: var(--fill-color);\n",
              "    }\n",
              "    30% {\n",
              "      border-color: transparent;\n",
              "      border-left-color: var(--fill-color);\n",
              "      border-top-color: var(--fill-color);\n",
              "      border-right-color: var(--fill-color);\n",
              "    }\n",
              "    40% {\n",
              "      border-color: transparent;\n",
              "      border-right-color: var(--fill-color);\n",
              "      border-top-color: var(--fill-color);\n",
              "    }\n",
              "    60% {\n",
              "      border-color: transparent;\n",
              "      border-right-color: var(--fill-color);\n",
              "    }\n",
              "    80% {\n",
              "      border-color: transparent;\n",
              "      border-right-color: var(--fill-color);\n",
              "      border-bottom-color: var(--fill-color);\n",
              "    }\n",
              "    90% {\n",
              "      border-color: transparent;\n",
              "      border-bottom-color: var(--fill-color);\n",
              "    }\n",
              "  }\n",
              "</style>\n",
              "\n",
              "  <script>\n",
              "    async function quickchart(key) {\n",
              "      const quickchartButtonEl =\n",
              "        document.querySelector('#' + key + ' button');\n",
              "      quickchartButtonEl.disabled = true;  // To prevent multiple clicks.\n",
              "      quickchartButtonEl.classList.add('colab-df-spinner');\n",
              "      try {\n",
              "        const charts = await google.colab.kernel.invokeFunction(\n",
              "            'suggestCharts', [key], {});\n",
              "      } catch (error) {\n",
              "        console.error('Error during call to suggestCharts:', error);\n",
              "      }\n",
              "      quickchartButtonEl.classList.remove('colab-df-spinner');\n",
              "      quickchartButtonEl.classList.add('colab-df-quickchart-complete');\n",
              "    }\n",
              "    (() => {\n",
              "      let quickchartButtonEl =\n",
              "        document.querySelector('#df-3dfd7f2f-8cb2-4bc2-ac64-caabac0d0f99 button');\n",
              "      quickchartButtonEl.style.display =\n",
              "        google.colab.kernel.accessAllowed ? 'block' : 'none';\n",
              "    })();\n",
              "  </script>\n",
              "</div>\n",
              "    </div>\n",
              "  </div>\n"
            ],
            "application/vnd.google.colaboratory.intrinsic+json": {
              "type": "dataframe",
              "variable_name": "test",
              "summary": "{\n  \"name\": \"test\",\n  \"rows\": 5156,\n  \"fields\": [\n    {\n      \"column\": \"index\",\n      \"properties\": {\n        \"dtype\": \"number\",\n        \"std\": 1654,\n        \"min\": 0,\n        \"max\": 5727,\n        \"num_unique_values\": 5156,\n        \"samples\": [\n          2438,\n          2117,\n          5512\n        ],\n        \"semantic_type\": \"\",\n        \"description\": \"\"\n      }\n    },\n    {\n      \"column\": \"Text\",\n      \"properties\": {\n        \"dtype\": \"string\",\n        \"num_unique_values\": 5129,\n        \"samples\": [\n          \"Subject: re : exmar deal  dear vince ,  this is the final version of the dash that was presented to jeff and joe on  friday . please let me know if i can be of more help .  best regards ,  farhad ahad  vince j kaminski @ ect  05 / 16 / 2000 01 : 34 pm  to : farhad ahad / corp / enron @ enron  cc : john sherriff / lon / ect @ ect , vince j kaminski / hou / ect @ ect , stinson  gibner / hou / ect @ ect , david gorte / hou / ect @ ect  subject : exmar deal  farhad ,  please , cc - mail to john sherriff in london the dash of the exmar transaction  when it becomes official .  vince\",\n          \"Subject: big rumor  vince -  i know you ' re very busy , so you might not have heard this . . .  apparently , the board will meet this week to approve the sale of * all * of  enron international ' s assets to a member of hte saudi royal family , the same  prince who once invested heavily in citicorp to bail it out .  the source of this is someone i trust .  clayton\",\n          \"Subject: re : contact info  glenn ,  please , contact rudi zipter to set up an interview with him and david port .  vince  \\\" glenn darrah \\\" on 04 / 25 / 2001 04 : 27 : 03 pm  please respond to gdarrah @ bigfoot . com  to : vince . j . kaminski @ enron . com  cc :  subject : contact info  vincent ,  congratulations on spearheading the mind ' s eye madness event - it looks like  quite a success . my biggest disappointment is that i am leaving enron this  week and have been too busy to participate as much as i would like . i have  had continued interest in the work and presentations that amy oberg has  done , so would have really enjoyed the workshop yesterday . i am still  considering doing some or all of the motorcade friday , however that may  work .  separately , thanks for the update in the lobby today on the enterprise risk  project . please keep in touch with me . as i mentioned , my redeployment  period ends tomorrow ( april 26 ) , but i currently do not have an outside job  lined up and still have a lot of interest in the project if something can be  worked out over the next few weeks . although he is not in the same group as  david port , i have worked a lot with brad larson in the rac underwriting  group - he may be a good source of information on me also .  contact information :  e - mail : gdarrah @ bigfoot . com  phone : 713 . 668 . 4277  cell : 713 . 320 . 5615  thanks ,  glenn darrah  get your free download of msn explorer at http : / / explorer . msn . com\"\n        ],\n        \"semantic_type\": \"\",\n        \"description\": \"\"\n      }\n    },\n    {\n      \"column\": \"0\",\n      \"properties\": {\n        \"dtype\": \"number\",\n        \"std\": 0.42742645130808143,\n        \"min\": 0.0,\n        \"max\": 1.0,\n        \"num_unique_values\": 2,\n        \"samples\": [\n          0.0,\n          1.0\n        ],\n        \"semantic_type\": \"\",\n        \"description\": \"\"\n      }\n    },\n    {\n      \"column\": \"1\",\n      \"properties\": {\n        \"dtype\": \"number\",\n        \"std\": 0.42742645130808143,\n        \"min\": 0.0,\n        \"max\": 1.0,\n        \"num_unique_values\": 2,\n        \"samples\": [\n          1.0,\n          0.0\n        ],\n        \"semantic_type\": \"\",\n        \"description\": \"\"\n      }\n    }\n  ]\n}"
            }
          },
          "metadata": {},
          "execution_count": 21
        }
      ]
    },
    {
      "cell_type": "markdown",
      "source": [
        "## Section 2: Baseline model generation"
      ],
      "metadata": {
        "id": "DrXR1kNXI2QW"
      }
    },
    {
      "cell_type": "markdown",
      "source": [
        "### 2.1: Tokenizer declaration"
      ],
      "metadata": {
        "id": "mKxiv0YVJCo5"
      }
    },
    {
      "cell_type": "code",
      "source": [
        "tokenizer = AutoTokenizer.from_pretrained(CARD)"
      ],
      "metadata": {
        "colab": {
          "base_uri": "https://localhost:8080/"
        },
        "id": "3YFgwD5EJGGS",
        "outputId": "52aa327e-85e3-4d5c-8ac1-10b10b6ddc50"
      },
      "execution_count": 22,
      "outputs": [
        {
          "output_type": "stream",
          "name": "stderr",
          "text": [
            "/usr/local/lib/python3.10/dist-packages/huggingface_hub/utils/_token.py:88: UserWarning: \n",
            "The secret `HF_TOKEN` does not exist in your Colab secrets.\n",
            "To authenticate with the Hugging Face Hub, create a token in your settings tab (https://huggingface.co/settings/tokens), set it as secret in your Google Colab and restart your session.\n",
            "You will be able to reuse this secret in all of your notebooks.\n",
            "Please note that authentication is recommended but still optional to access public models or datasets.\n",
            "  warnings.warn(\n"
          ]
        }
      ]
    },
    {
      "cell_type": "markdown",
      "source": [
        "### 2.2: Model definition"
      ],
      "metadata": {
        "id": "uIDGQibu34p7"
      }
    },
    {
      "cell_type": "code",
      "source": [
        "model = AutoModelForSequenceClassification.from_pretrained(CARD, num_labels = len(labels), problem_type='multi_label_classification')\n",
        "for param in model.bert.embeddings.parameters():\n",
        "    param.requires_grad = False\n",
        "for param in model.bert.encoder.parameters():\n",
        "    param.requires_grad = False\n",
        "optimizer = torch.optim.AdamW(model.parameters(), lr=LEARNING_RATE, weight_decay=1e-5)\n",
        "optimizer.zero_grad()\n",
        "loss_fn = torch.nn.BCEWithLogitsLoss()"
      ],
      "metadata": {
        "colab": {
          "base_uri": "https://localhost:8080/"
        },
        "id": "OuJKamcCpGhP",
        "outputId": "8c1c78be-f0d5-450c-b3f2-82aa08066b25"
      },
      "execution_count": 23,
      "outputs": [
        {
          "output_type": "stream",
          "name": "stderr",
          "text": [
            "Some weights of BertForSequenceClassification were not initialized from the model checkpoint at prajjwal1/bert-tiny and are newly initialized: ['classifier.bias', 'classifier.weight']\n",
            "You should probably TRAIN this model on a down-stream task to be able to use it for predictions and inference.\n"
          ]
        }
      ]
    },
    {
      "cell_type": "markdown",
      "source": [
        "### 2.3: Model instantiation"
      ],
      "metadata": {
        "id": "6tcA-0YI4HSd"
      }
    },
    {
      "cell_type": "code",
      "source": [
        "device = torch.device('cuda') if torch.cuda.is_available() else torch.device('cpu')\n",
        "model.to(device)"
      ],
      "metadata": {
        "colab": {
          "base_uri": "https://localhost:8080/"
        },
        "id": "CvAFO5H84Lj4",
        "outputId": "de75abb5-224f-46df-d657-8913e39e0907"
      },
      "execution_count": 24,
      "outputs": [
        {
          "output_type": "execute_result",
          "data": {
            "text/plain": [
              "BertForSequenceClassification(\n",
              "  (bert): BertModel(\n",
              "    (embeddings): BertEmbeddings(\n",
              "      (word_embeddings): Embedding(30522, 128, padding_idx=0)\n",
              "      (position_embeddings): Embedding(512, 128)\n",
              "      (token_type_embeddings): Embedding(2, 128)\n",
              "      (LayerNorm): LayerNorm((128,), eps=1e-12, elementwise_affine=True)\n",
              "      (dropout): Dropout(p=0.1, inplace=False)\n",
              "    )\n",
              "    (encoder): BertEncoder(\n",
              "      (layer): ModuleList(\n",
              "        (0-1): 2 x BertLayer(\n",
              "          (attention): BertAttention(\n",
              "            (self): BertSelfAttention(\n",
              "              (query): Linear(in_features=128, out_features=128, bias=True)\n",
              "              (key): Linear(in_features=128, out_features=128, bias=True)\n",
              "              (value): Linear(in_features=128, out_features=128, bias=True)\n",
              "              (dropout): Dropout(p=0.1, inplace=False)\n",
              "            )\n",
              "            (output): BertSelfOutput(\n",
              "              (dense): Linear(in_features=128, out_features=128, bias=True)\n",
              "              (LayerNorm): LayerNorm((128,), eps=1e-12, elementwise_affine=True)\n",
              "              (dropout): Dropout(p=0.1, inplace=False)\n",
              "            )\n",
              "          )\n",
              "          (intermediate): BertIntermediate(\n",
              "            (dense): Linear(in_features=128, out_features=512, bias=True)\n",
              "            (intermediate_act_fn): GELUActivation()\n",
              "          )\n",
              "          (output): BertOutput(\n",
              "            (dense): Linear(in_features=512, out_features=128, bias=True)\n",
              "            (LayerNorm): LayerNorm((128,), eps=1e-12, elementwise_affine=True)\n",
              "            (dropout): Dropout(p=0.1, inplace=False)\n",
              "          )\n",
              "        )\n",
              "      )\n",
              "    )\n",
              "    (pooler): BertPooler(\n",
              "      (dense): Linear(in_features=128, out_features=128, bias=True)\n",
              "      (activation): Tanh()\n",
              "    )\n",
              "  )\n",
              "  (dropout): Dropout(p=0.1, inplace=False)\n",
              "  (classifier): Linear(in_features=128, out_features=2, bias=True)\n",
              ")"
            ]
          },
          "metadata": {},
          "execution_count": 24
        }
      ]
    },
    {
      "cell_type": "markdown",
      "source": [
        "### 2.3: train and test loader creation"
      ],
      "metadata": {
        "id": "nRvHVGDV3_69"
      }
    },
    {
      "cell_type": "code",
      "source": [
        "train_set = Email_Dataset(train, tokenizer, labels=labels, max_len=MAX_LEN)\n",
        "loader = DataLoader(train_set, batch_size=TRAIN_BATCH_SIZE, shuffle=True, pin_memory=True)\n",
        "test_set = Email_Dataset(test, tokenizer, labels=labels, max_len=MAX_LEN)\n",
        "test_loader = DataLoader(test_set, batch_size=TRAIN_BATCH_SIZE, shuffle=False, pin_memory=True)"
      ],
      "metadata": {
        "id": "lVAd5agTpIx8"
      },
      "execution_count": 25,
      "outputs": []
    },
    {
      "cell_type": "markdown",
      "source": [
        "## Section 3: Training and validation"
      ],
      "metadata": {
        "id": "tXQsVlST4PRq"
      }
    },
    {
      "cell_type": "markdown",
      "source": [
        "### 3.1: Training"
      ],
      "metadata": {
        "id": "GBCq4kfZ4Xux"
      }
    },
    {
      "cell_type": "code",
      "source": [
        "train_dyn = {}\n",
        "history, train_steps = trainer(model, device, optimizer, loss_fn, loader, EPOCHS*3, train_dyn)"
      ],
      "metadata": {
        "colab": {
          "base_uri": "https://localhost:8080/"
        },
        "id": "f0N1NOVHpui3",
        "outputId": "254acdff-3a43-4f8c-aa14-7bf2943e9e7a"
      },
      "execution_count": 26,
      "outputs": [
        {
          "output_type": "stream",
          "name": "stdout",
          "text": [
            "EPOCH 1/60...\n",
            "Data Cartography sample generation...\n",
            "EPOCH 2/60...\n",
            "Data Cartography sample generation...\n",
            "EPOCH 3/60...\n",
            "Data Cartography sample generation...\n",
            "EPOCH 4/60...\n",
            "Data Cartography sample generation...\n",
            "EPOCH 5/60...\n",
            "Data Cartography sample generation...\n",
            "EPOCH 6/60...\n",
            "Data Cartography sample generation...\n",
            "EPOCH 7/60...\n",
            "Data Cartography sample generation...\n",
            "EPOCH 8/60...\n",
            "Data Cartography sample generation...\n",
            "EPOCH 9/60...\n",
            "Data Cartography sample generation...\n",
            "EPOCH 10/60...\n",
            "Data Cartography sample generation...\n",
            "EPOCH 11/60...\n",
            "Data Cartography sample generation...\n",
            "EPOCH 12/60...\n",
            "Data Cartography sample generation...\n",
            "EPOCH 13/60...\n",
            "Data Cartography sample generation...\n",
            "EPOCH 14/60...\n",
            "Data Cartography sample generation...\n",
            "EPOCH 15/60...\n",
            "Data Cartography sample generation...\n",
            "EPOCH 16/60...\n",
            "Data Cartography sample generation...\n",
            "EPOCH 17/60...\n",
            "Data Cartography sample generation...\n",
            "EPOCH 18/60...\n",
            "Data Cartography sample generation...\n",
            "EPOCH 19/60...\n",
            "Data Cartography sample generation...\n",
            "EPOCH 20/60...\n",
            "Data Cartography sample generation...\n",
            "EPOCH 21/60...\n",
            "Data Cartography sample generation...\n",
            "EPOCH 22/60...\n",
            "Data Cartography sample generation...\n",
            "EPOCH 23/60...\n",
            "Data Cartography sample generation...\n",
            "EPOCH 24/60...\n",
            "Data Cartography sample generation...\n",
            "EPOCH 25/60...\n",
            "Data Cartography sample generation...\n",
            "EPOCH 26/60...\n",
            "Data Cartography sample generation...\n",
            "EPOCH 27/60...\n",
            "Data Cartography sample generation...\n",
            "EPOCH 28/60...\n",
            "Data Cartography sample generation...\n",
            "EPOCH 29/60...\n",
            "Data Cartography sample generation...\n",
            "EPOCH 30/60...\n",
            "Data Cartography sample generation...\n",
            "EPOCH 31/60...\n",
            "Data Cartography sample generation...\n",
            "EPOCH 32/60...\n",
            "Data Cartography sample generation...\n",
            "EPOCH 33/60...\n",
            "Data Cartography sample generation...\n",
            "EPOCH 34/60...\n",
            "Data Cartography sample generation...\n",
            "EPOCH 35/60...\n",
            "Data Cartography sample generation...\n",
            "EPOCH 36/60...\n",
            "Data Cartography sample generation...\n",
            "EPOCH 37/60...\n",
            "Data Cartography sample generation...\n",
            "EPOCH 38/60...\n",
            "Data Cartography sample generation...\n",
            "EPOCH 39/60...\n",
            "Data Cartography sample generation...\n",
            "EPOCH 40/60...\n",
            "Data Cartography sample generation...\n",
            "EPOCH 41/60...\n",
            "Data Cartography sample generation...\n",
            "EPOCH 42/60...\n",
            "Data Cartography sample generation...\n",
            "EPOCH 43/60...\n",
            "Data Cartography sample generation...\n",
            "EPOCH 44/60...\n",
            "Data Cartography sample generation...\n",
            "EPOCH 45/60...\n",
            "Data Cartography sample generation...\n",
            "EPOCH 46/60...\n",
            "Data Cartography sample generation...\n",
            "EPOCH 47/60...\n",
            "Data Cartography sample generation...\n",
            "EPOCH 48/60...\n",
            "Data Cartography sample generation...\n",
            "EPOCH 49/60...\n",
            "Data Cartography sample generation...\n",
            "EPOCH 50/60...\n",
            "Data Cartography sample generation...\n",
            "EPOCH 51/60...\n",
            "Data Cartography sample generation...\n",
            "EPOCH 52/60...\n",
            "Data Cartography sample generation...\n",
            "EPOCH 53/60...\n",
            "Data Cartography sample generation...\n",
            "EPOCH 54/60...\n",
            "Data Cartography sample generation...\n",
            "EPOCH 55/60...\n",
            "Data Cartography sample generation...\n",
            "EPOCH 56/60...\n",
            "Data Cartography sample generation...\n",
            "EPOCH 57/60...\n",
            "Data Cartography sample generation...\n",
            "EPOCH 58/60...\n",
            "Data Cartography sample generation...\n",
            "EPOCH 59/60...\n",
            "Data Cartography sample generation...\n",
            "EPOCH 60/60...\n",
            "Data Cartography sample generation...\n"
          ]
        }
      ]
    },
    {
      "cell_type": "markdown",
      "source": [
        "### 3.2: Train loss plotting"
      ],
      "metadata": {
        "id": "DO_r86Ic4gmn"
      }
    },
    {
      "cell_type": "code",
      "source": [
        "plt.plot(history, c='r')\n",
        "plt.grid(True)\n",
        "plt.show();"
      ],
      "metadata": {
        "id": "diNg_uzwFgut",
        "colab": {
          "base_uri": "https://localhost:8080/",
          "height": 430
        },
        "outputId": "732a1e24-092c-4c08-e1e2-67df506ce71f"
      },
      "execution_count": 27,
      "outputs": [
        {
          "output_type": "display_data",
          "data": {
            "text/plain": [
              "<Figure size 640x480 with 1 Axes>"
            ],
            "image/png": "[encoded data removed]"
          },
          "metadata": {}
        }
      ]
    },
    {
      "cell_type": "markdown",
      "source": [
        "### 3.3: Model Validation"
      ],
      "metadata": {
        "id": "xLK9LepH4l9i"
      }
    },
    {
      "cell_type": "code",
      "source": [
        "model.eval()\n",
        "results = evaluation_run(model, test_loader, device)\n",
        "results = pd.DataFrame(results, columns=labels)\n",
        "print(classification_report(test[labels], results, zero_division=0.0, target_names = labels))"
      ],
      "metadata": {
        "id": "NY5GKWjdpwL7",
        "colab": {
          "base_uri": "https://localhost:8080/"
        },
        "outputId": "57c1354a-0cc0-497b-f678-edb36e92da1b"
      },
      "execution_count": 28,
      "outputs": [
        {
          "output_type": "stream",
          "name": "stdout",
          "text": [
            "              precision    recall  f1-score   support\n",
            "\n",
            "           1       0.92      0.35      0.51      1240\n",
            "           0       0.83      0.99      0.90      3916\n",
            "\n",
            "   micro avg       0.84      0.84      0.84      5156\n",
            "   macro avg       0.88      0.67      0.71      5156\n",
            "weighted avg       0.85      0.84      0.81      5156\n",
            " samples avg       0.84      0.84      0.84      5156\n",
            "\n"
          ]
        }
      ]
    },
    {
      "cell_type": "markdown",
      "source": [
        "## Section 4: Data Cartography"
      ],
      "metadata": {
        "id": "WeEzbUnZ4s4J"
      }
    },
    {
      "cell_type": "markdown",
      "source": [
        "### 4.1: Cartography computation"
      ],
      "metadata": {
        "id": "l3MlMH6_4wLe"
      }
    },
    {
      "cell_type": "code",
      "source": [
        "cartography = compute_metrics(train_dyn)\n",
        "train = train.join(cartography)\n",
        "new_col = pd.DataFrame(train['confidence'] * (1 - train['variability']), columns = ['c*(1-v)'])\n",
        "premises = train.join(new_col)"
      ],
      "metadata": {
        "id": "2LQaTchAp2M4"
      },
      "execution_count": 29,
      "outputs": []
    },
    {
      "cell_type": "markdown",
      "source": [
        "### 4.2: Cartography plotting"
      ],
      "metadata": {
        "id": "qZgBn2d04z4b"
      }
    },
    {
      "cell_type": "code",
      "source": [
        "plot_data_map(cartography,plot_dir=os.getcwd(),show_hist=True)"
      ],
      "metadata": {
        "id": "P4xhxi-gp445",
        "colab": {
          "base_uri": "https://localhost:8080/",
          "height": 990
        },
        "outputId": "dc5c8ce3-16e8-43e3-db72-1f9619f7b146"
      },
      "execution_count": 30,
      "outputs": [
        {
          "output_type": "display_data",
          "data": {
            "text/plain": [
              "<Figure size 1400x1000 with 4 Axes>"
            ],
            "image/png": "[encoded data removed]"
          },
          "metadata": {}
        }
      ]
    },
    {
      "cell_type": "code",
      "source": [
        "hard_to_learn(premises, labels)"
      ],
      "metadata": {
        "id": "aTuvyNn2RML6",
        "colab": {
          "base_uri": "https://localhost:8080/",
          "height": 487
        },
        "outputId": "45230547-3be4-48e6-b043-765e835ccdde"
      },
      "execution_count": 31,
      "outputs": [
        {
          "output_type": "display_data",
          "data": {
            "text/plain": [
              "<Figure size 640x480 with 1 Axes>"
            ],
            "image/png": "[encoded data removed]"
          },
          "metadata": {}
        }
      ]
    },
    {
      "cell_type": "markdown",
      "source": [
        "## Section 5: Data Cartography guided model generation"
      ],
      "metadata": {
        "id": "0iONgIZC45pf"
      }
    },
    {
      "cell_type": "markdown",
      "source": [
        "### 5.1: Model definition"
      ],
      "metadata": {
        "id": "ArI6ArO35RrM"
      }
    },
    {
      "cell_type": "code",
      "source": [
        "model2 = AutoModelForSequenceClassification.from_pretrained(CARD, num_labels = len(labels), problem_type='multi_label_classification')\n",
        "for param in model2.bert.embeddings.parameters(): # We don't want to train the first layer\n",
        "    param.requires_grad = False\n",
        "for param in model2.bert.encoder.parameters():\n",
        "    param.requires_grad = False\n",
        "optimizer2 = torch.optim.AdamW(model2.parameters(), lr=LEARNING_RATE, weight_decay=1e-5)\n",
        "optimizer2.zero_grad()\n",
        "loss_fn2 = torch.nn.BCEWithLogitsLoss()"
      ],
      "metadata": {
        "id": "Y03E03cQ5H-7",
        "colab": {
          "base_uri": "https://localhost:8080/"
        },
        "outputId": "d71649a0-984f-4a6a-95cf-c40dd748b042"
      },
      "execution_count": 32,
      "outputs": [
        {
          "output_type": "stream",
          "name": "stderr",
          "text": [
            "Some weights of BertForSequenceClassification were not initialized from the model checkpoint at prajjwal1/bert-tiny and are newly initialized: ['classifier.bias', 'classifier.weight']\n",
            "You should probably TRAIN this model on a down-stream task to be able to use it for predictions and inference.\n"
          ]
        }
      ]
    },
    {
      "cell_type": "markdown",
      "source": [
        "### 5.2: Model instantiation"
      ],
      "metadata": {
        "id": "zx4CFHcf5U-k"
      }
    },
    {
      "cell_type": "code",
      "source": [
        "device2 = torch.device('cuda') if torch.cuda.is_available() else torch.device('cpu')\n",
        "model2.to(device2)"
      ],
      "metadata": {
        "id": "P0M2HFaS5O5P",
        "colab": {
          "base_uri": "https://localhost:8080/"
        },
        "outputId": "fc389550-5a5f-48ed-a8c7-045d7b216cd8"
      },
      "execution_count": 33,
      "outputs": [
        {
          "output_type": "execute_result",
          "data": {
            "text/plain": [
              "BertForSequenceClassification(\n",
              "  (bert): BertModel(\n",
              "    (embeddings): BertEmbeddings(\n",
              "      (word_embeddings): Embedding(30522, 128, padding_idx=0)\n",
              "      (position_embeddings): Embedding(512, 128)\n",
              "      (token_type_embeddings): Embedding(2, 128)\n",
              "      (LayerNorm): LayerNorm((128,), eps=1e-12, elementwise_affine=True)\n",
              "      (dropout): Dropout(p=0.1, inplace=False)\n",
              "    )\n",
              "    (encoder): BertEncoder(\n",
              "      (layer): ModuleList(\n",
              "        (0-1): 2 x BertLayer(\n",
              "          (attention): BertAttention(\n",
              "            (self): BertSelfAttention(\n",
              "              (query): Linear(in_features=128, out_features=128, bias=True)\n",
              "              (key): Linear(in_features=128, out_features=128, bias=True)\n",
              "              (value): Linear(in_features=128, out_features=128, bias=True)\n",
              "              (dropout): Dropout(p=0.1, inplace=False)\n",
              "            )\n",
              "            (output): BertSelfOutput(\n",
              "              (dense): Linear(in_features=128, out_features=128, bias=True)\n",
              "              (LayerNorm): LayerNorm((128,), eps=1e-12, elementwise_affine=True)\n",
              "              (dropout): Dropout(p=0.1, inplace=False)\n",
              "            )\n",
              "          )\n",
              "          (intermediate): BertIntermediate(\n",
              "            (dense): Linear(in_features=128, out_features=512, bias=True)\n",
              "            (intermediate_act_fn): GELUActivation()\n",
              "          )\n",
              "          (output): BertOutput(\n",
              "            (dense): Linear(in_features=512, out_features=128, bias=True)\n",
              "            (LayerNorm): LayerNorm((128,), eps=1e-12, elementwise_affine=True)\n",
              "            (dropout): Dropout(p=0.1, inplace=False)\n",
              "          )\n",
              "        )\n",
              "      )\n",
              "    )\n",
              "    (pooler): BertPooler(\n",
              "      (dense): Linear(in_features=128, out_features=128, bias=True)\n",
              "      (activation): Tanh()\n",
              "    )\n",
              "  )\n",
              "  (dropout): Dropout(p=0.1, inplace=False)\n",
              "  (classifier): Linear(in_features=128, out_features=2, bias=True)\n",
              ")"
            ]
          },
          "metadata": {},
          "execution_count": 33
        }
      ]
    },
    {
      "cell_type": "markdown",
      "source": [
        "### 5.3: Creation of data cartography guided curriculum learning datasets"
      ],
      "metadata": {
        "id": "aG6NiC2z5asP"
      }
    },
    {
      "cell_type": "code",
      "source": [
        "### Class based curriculum\n",
        "\n",
        "datasets_curriculum = []\n",
        "for i in [7, 5, 3, 2, 1, 0]:\n",
        "  df = pd.DataFrame()\n",
        "  for label in labels:\n",
        "    dataset_temp = premises[premises[label] == 1.0]\n",
        "    dataset_temp = dataset_temp[dataset_temp['c*(1-v)'] >= dataset_temp['c*(1-v)'].quantile(i/10)]\n",
        "    df = pd.concat([df, dataset_temp], ignore_index=True)\n",
        "  datasets_curriculum.append(df)\n",
        "\n",
        "datasets_curriculum = [Email_Dataset(ds, tokenizer, labels, max_len=MAX_LEN) for ds in datasets_curriculum]\n",
        "loaders_curriculum = [DataLoader(ds, batch_size=TRAIN_BATCH_SIZE, shuffle=True, pin_memory=True) for ds in datasets_curriculum]"
      ],
      "metadata": {
        "id": "xctRlbCKp6fC"
      },
      "execution_count": 34,
      "outputs": []
    },
    {
      "cell_type": "markdown",
      "source": [
        "## Section 6: Curriculum learning training and validation"
      ],
      "metadata": {
        "id": "ZZ-O1NBa6E_H"
      }
    },
    {
      "cell_type": "markdown",
      "source": [
        "### 6.1: Model training"
      ],
      "metadata": {
        "id": "POArke_E6azw"
      }
    },
    {
      "cell_type": "code",
      "source": [
        "history2 = []\n",
        "train_dyn2 = {}\n",
        "c_old = 0\n",
        "c_max = train_steps\n",
        "loss_lim = [0.6, 0.45, 0.4, 0.35, 0.3, 0.03]\n",
        "for i in range(len(loaders_curriculum)):\n",
        "  his, c_old = trainer(model2, device2, optimizer2, loss_fn2, loaders_curriculum[i], (EPOCHS - len(loaders_curriculum) + i + 1)*2, train_dyn2, c_old, c_max, loss_lim[i])\n",
        "  history2.extend(his)\n",
        "  if c_old == c_max:\n",
        "    break"
      ],
      "metadata": {
        "id": "c3Z2E1tUuXZ4",
        "colab": {
          "base_uri": "https://localhost:8080/"
        },
        "outputId": "820fc2b6-5d38-4591-e57c-a1a6b2b09cc7"
      },
      "execution_count": 35,
      "outputs": [
        {
          "output_type": "stream",
          "name": "stdout",
          "text": [
            "EPOCH 1/30...\n",
            "Data Cartography sample generation...\n",
            "EPOCH 2/30...\n",
            "Data Cartography sample generation...\n",
            "EPOCH 3/30...\n",
            "Data Cartography sample generation...\n",
            "EPOCH 4/30...\n",
            "Data Cartography sample generation...\n",
            "EPOCH 5/30...\n",
            "Data Cartography sample generation...\n",
            "EPOCH 6/30...\n",
            "Data Cartography sample generation...\n",
            "EPOCH 7/30...\n",
            "Data Cartography sample generation...\n",
            "EPOCH 8/30...\n",
            "Data Cartography sample generation...\n",
            "EPOCH 9/30...\n",
            "Data Cartography sample generation...\n",
            "EPOCH 10/30...\n",
            "Data Cartography sample generation...\n",
            "EPOCH 11/30...\n",
            "Data Cartography sample generation...\n",
            "EPOCH 12/30...\n",
            "Data Cartography sample generation...\n",
            "EPOCH 13/30...\n",
            "Data Cartography sample generation...\n",
            "EPOCH 14/30...\n",
            "Data Cartography sample generation...\n",
            "EPOCH 15/30...\n",
            "Data Cartography sample generation...\n",
            "EPOCH 16/30...\n",
            "Data Cartography sample generation...\n",
            "EPOCH 17/30...\n",
            "Data Cartography sample generation...\n",
            "EPOCH 1/32...\n",
            "Data Cartography sample generation...\n",
            "EPOCH 2/32...\n",
            "Data Cartography sample generation...\n",
            "EPOCH 3/32...\n",
            "Data Cartography sample generation...\n",
            "EPOCH 4/32...\n",
            "Data Cartography sample generation...\n",
            "EPOCH 5/32...\n",
            "Data Cartography sample generation...\n",
            "EPOCH 6/32...\n",
            "Data Cartography sample generation...\n",
            "EPOCH 7/32...\n",
            "Data Cartography sample generation...\n",
            "EPOCH 8/32...\n",
            "Data Cartography sample generation...\n",
            "EPOCH 9/32...\n",
            "Data Cartography sample generation...\n",
            "EPOCH 10/32...\n",
            "Data Cartography sample generation...\n",
            "EPOCH 11/32...\n",
            "Data Cartography sample generation...\n",
            "EPOCH 12/32...\n",
            "Data Cartography sample generation...\n",
            "EPOCH 13/32...\n",
            "Data Cartography sample generation...\n",
            "EPOCH 14/32...\n",
            "Data Cartography sample generation...\n",
            "EPOCH 15/32...\n",
            "Data Cartography sample generation...\n",
            "EPOCH 16/32...\n",
            "Data Cartography sample generation...\n",
            "EPOCH 17/32...\n",
            "Data Cartography sample generation...\n",
            "EPOCH 18/32...\n",
            "Data Cartography sample generation...\n",
            "EPOCH 19/32...\n",
            "Data Cartography sample generation...\n",
            "EPOCH 20/32...\n",
            "Data Cartography sample generation...\n",
            "EPOCH 21/32...\n",
            "Data Cartography sample generation...\n",
            "EPOCH 1/34...\n",
            "Data Cartography sample generation...\n",
            "EPOCH 2/34...\n",
            "Data Cartography sample generation...\n",
            "EPOCH 3/34...\n",
            "Data Cartography sample generation...\n",
            "EPOCH 4/34...\n",
            "Data Cartography sample generation...\n",
            "EPOCH 5/34...\n",
            "Data Cartography sample generation...\n",
            "EPOCH 6/34...\n",
            "Data Cartography sample generation...\n",
            "EPOCH 7/34...\n",
            "Data Cartography sample generation...\n",
            "EPOCH 8/34...\n",
            "Data Cartography sample generation...\n",
            "EPOCH 9/34...\n",
            "Data Cartography sample generation...\n",
            "EPOCH 10/34...\n",
            "Data Cartography sample generation...\n",
            "EPOCH 11/34...\n",
            "Data Cartography sample generation...\n",
            "EPOCH 12/34...\n",
            "Data Cartography sample generation...\n",
            "EPOCH 13/34...\n",
            "Data Cartography sample generation...\n",
            "EPOCH 14/34...\n",
            "Data Cartography sample generation...\n",
            "EPOCH 15/34...\n",
            "Data Cartography sample generation...\n",
            "EPOCH 1/36...\n",
            "Data Cartography sample generation...\n",
            "EPOCH 2/36...\n",
            "Data Cartography sample generation...\n",
            "EPOCH 3/36...\n",
            "Data Cartography sample generation...\n",
            "EPOCH 4/36...\n",
            "Data Cartography sample generation...\n",
            "EPOCH 5/36...\n",
            "Data Cartography sample generation...\n",
            "EPOCH 6/36...\n",
            "Data Cartography sample generation...\n",
            "EPOCH 7/36...\n",
            "Data Cartography sample generation...\n",
            "EPOCH 8/36...\n",
            "Data Cartography sample generation...\n",
            "EPOCH 9/36...\n",
            "Data Cartography sample generation...\n",
            "EPOCH 10/36...\n",
            "Data Cartography sample generation...\n",
            "EPOCH 11/36...\n",
            "Data Cartography sample generation...\n",
            "EPOCH 12/36...\n",
            "Data Cartography sample generation...\n",
            "EPOCH 13/36...\n",
            "Data Cartography sample generation...\n",
            "EPOCH 14/36...\n",
            "Data Cartography sample generation...\n",
            "EPOCH 15/36...\n",
            "Data Cartography sample generation...\n",
            "EPOCH 16/36...\n",
            "Data Cartography sample generation...\n",
            "EPOCH 17/36...\n",
            "Data Cartography sample generation...\n",
            "EPOCH 18/36...\n",
            "Data Cartography sample generation...\n",
            "EPOCH 19/36...\n",
            "Data Cartography sample generation...\n",
            "EPOCH 20/36...\n",
            "Data Cartography sample generation...\n",
            "EPOCH 1/38...\n",
            "Data Cartography sample generation...\n",
            "EPOCH 1/40...\n",
            "Data Cartography sample generation...\n",
            "EPOCH 2/40...\n",
            "Data Cartography sample generation...\n",
            "EPOCH 3/40...\n",
            "Data Cartography sample generation...\n",
            "EPOCH 4/40...\n",
            "Data Cartography sample generation...\n",
            "EPOCH 5/40...\n",
            "Data Cartography sample generation...\n",
            "EPOCH 6/40...\n",
            "Data Cartography sample generation...\n",
            "EPOCH 7/40...\n",
            "Data Cartography sample generation...\n",
            "EPOCH 8/40...\n",
            "Data Cartography sample generation...\n",
            "EPOCH 9/40...\n",
            "Data Cartography sample generation...\n",
            "EPOCH 10/40...\n",
            "Data Cartography sample generation...\n",
            "EPOCH 11/40...\n",
            "Data Cartography sample generation...\n",
            "EPOCH 12/40...\n",
            "Data Cartography sample generation...\n",
            "EPOCH 13/40...\n",
            "Data Cartography sample generation...\n",
            "EPOCH 14/40...\n",
            "Data Cartography sample generation...\n",
            "EPOCH 15/40...\n",
            "Data Cartography sample generation...\n",
            "EPOCH 16/40...\n",
            "Data Cartography sample generation...\n",
            "EPOCH 17/40...\n",
            "Data Cartography sample generation...\n"
          ]
        }
      ]
    },
    {
      "cell_type": "markdown",
      "source": [
        "### 6.2: Train loss plotting"
      ],
      "metadata": {
        "id": "89Npe-6-6eUQ"
      }
    },
    {
      "cell_type": "code",
      "source": [
        "plt.plot(history2, c='b')\n",
        "plt.plot(history, c='r')\n",
        "plt.grid(True)\n",
        "plt.show();"
      ],
      "metadata": {
        "id": "fEpY5UtcuZX0",
        "colab": {
          "base_uri": "https://localhost:8080/",
          "height": 437
        },
        "outputId": "afc288b2-1ae6-430b-f99e-0e9dbad57b53"
      },
      "execution_count": 36,
      "outputs": [
        {
          "output_type": "display_data",
          "data": {
            "text/plain": [
              "<Figure size 640x480 with 1 Axes>"
            ],
            "image/png": "[encoded data removed]"
          },
          "metadata": {}
        }
      ]
    },
    {
      "cell_type": "markdown",
      "source": [
        "### 6.3: Model evaluation"
      ],
      "metadata": {
        "id": "5GkrenC16iPj"
      }
    },
    {
      "cell_type": "code",
      "source": [
        "model2.eval()\n",
        "results2 = evaluation_run(model2, test_loader, device)\n",
        "results2 = pd.DataFrame(results2, columns=labels)\n",
        "print(classification_report(test[labels], results2, zero_division=0.0, target_names = labels))"
      ],
      "metadata": {
        "id": "S-YDrlByudAm",
        "colab": {
          "base_uri": "https://localhost:8080/"
        },
        "outputId": "044ddb36-a249-401a-dad3-93c2a98fe02e"
      },
      "execution_count": 37,
      "outputs": [
        {
          "output_type": "stream",
          "name": "stdout",
          "text": [
            "              precision    recall  f1-score   support\n",
            "\n",
            "           1       0.88      0.48      0.62      1240\n",
            "           0       0.86      0.98      0.91      3916\n",
            "\n",
            "   micro avg       0.86      0.86      0.86      5156\n",
            "   macro avg       0.87      0.73      0.77      5156\n",
            "weighted avg       0.86      0.86      0.84      5156\n",
            " samples avg       0.86      0.86      0.86      5156\n",
            "\n"
          ]
        }
      ]
    },
    {
      "cell_type": "markdown",
      "source": [
        "#### Baseline model evaluation for comparison"
      ],
      "metadata": {
        "id": "Wh1LrnX86rQp"
      }
    },
    {
      "cell_type": "code",
      "source": [
        "print(classification_report(test[labels], results, zero_division=0.0, target_names = labels))"
      ],
      "metadata": {
        "id": "e8FfkLYFx5sM",
        "colab": {
          "base_uri": "https://localhost:8080/"
        },
        "outputId": "43294eea-0808-41fe-c0be-a17cf367cb9d"
      },
      "execution_count": 38,
      "outputs": [
        {
          "output_type": "stream",
          "name": "stdout",
          "text": [
            "              precision    recall  f1-score   support\n",
            "\n",
            "           1       0.92      0.35      0.51      1240\n",
            "           0       0.83      0.99      0.90      3916\n",
            "\n",
            "   micro avg       0.84      0.84      0.84      5156\n",
            "   macro avg       0.88      0.67      0.71      5156\n",
            "weighted avg       0.85      0.84      0.81      5156\n",
            " samples avg       0.84      0.84      0.84      5156\n",
            "\n"
          ]
        }
      ]
    }
  ]
}